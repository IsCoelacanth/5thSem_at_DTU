{
 "cells": [
  {
   "cell_type": "markdown",
   "metadata": {},
   "source": [
    "# Assignment 1\n",
    "# COMPLETE ASSIGNMENT CAN BE FOUND [HERE](https://drive.google.com/file/d/0B4E2kBz73OpoSjRJSkhNQ1lDOVk/view?usp=sharing)\n",
    "find b in the following using the least square equation to minimize.\n",
    "<p align=\"center\">\n",
    "    <img src=\"https://latex.codecogs.com/gif.latex?%5Cdpi%7B150%7D%20%5Clarge%20%7C%7CAt-b%7C%7C%5E2\"/>\n",
    "</p>\n",
    "\n",
    "## Q1.  \n",
    "## find x and y.  \n",
    "<p align=\"center\">\n",
    "    <img src=\"https://latex.codecogs.com/gif.latex?%5Cdpi%7B150%7D%20%5Clarge%20%5Cbegin%7Bbmatrix%7D%202%260%20%5C%5C%200%261%20%5C%5C%202%262%20%5Cend%7Bbmatrix%7D%20%5Cbegin%7Bbmatrix%7D%20x%5C%5C%20y%20%5Cend%7Bbmatrix%7D%20%3D%20%5Cbegin%7Bbmatrix%7D%201%20%5C%5C%202%20%5C%5C%203%20%5Cend%7Bbmatrix%7D\"/>\n",
    "</p>\n",
    "\n",
    "## Q2.  \n",
    "## find x, y and z.  \n",
    "<p align=\"center\">\n",
    "    <img src=\"https://latex.codecogs.com/gif.latex?%5Cdpi%7B150%7D%20%5Clarge%20%5Cbegin%7Bbmatrix%7D%201%26-2%264%20%5C%5C%201%26-1%261%20%5C%5C%201%260%260%20%5C%5C%201%261%261%20%5C%5C%201%264%264%20%5Cend%7Bbmatrix%7D%20%5Cbegin%7Bbmatrix%7D%20x%5C%5C%20y%5C%5C%20z%5C%5C%20%5Cend%7Bbmatrix%7D%20%3D%20%5Cbegin%7Bbmatrix%7D%200%20%5C%5C%200%20%5C%5C%201%20%5C%5C%200%20%5C%5C%200%20%5C%5C%20%5Cend%7Bbmatrix%7D\"/>\n",
    "</p>\n",
    "\n",
    "## Q3.  \n",
    "## find x and y.  \n",
    "<p align=\"center\">\n",
    "    <img src=\"https://latex.codecogs.com/gif.latex?%5Cdpi%7B150%7D%20%5Clarge%20%5Cbegin%7Bbmatrix%7D%203%26-6%20%5C%5C%204%26-8%20%5C%5C%200%261%20%5Cend%7Bbmatrix%7D%20%5Cbegin%7Bbmatrix%7D%20x%5C%5C%20y%20%5Cend%7Bbmatrix%7D%20%3D%20%5Cbegin%7Bbmatrix%7D%20-1%20%5C%5C%207%20%5C%5C%202%20%5Cend%7Bbmatrix%7D\"/>\n",
    "</p>\n",
    "\n",
    "### this is solved using the following quation:\n",
    "<p align=\"center\">\n",
    "    <img src=\"https://latex.codecogs.com/gif.latex?%5Cdpi%7B150%7D%20%5Clarge%20%28A%5E%7BT%7DA%29%5E%7B-1%7DA%5E%7BT%7Db\"/>\n",
    "</p>\n",
    "\n",
    "## Q4.  \n",
    "## find a, b, c and d.  \n",
    "<p align=\"center\">\n",
    "    <img src=\"https://latex.codecogs.com/gif.latex?%5Cdpi%7B150%7D%20%5Cbegin%7Bbmatrix%7D%201%261%261%261%20%5C%5C%208%264%262%261%20%5C%5C%2027%269%263%261%20%5C%5C%2064%2616%264%261%20%5C%5C%20125%2625%265%261%20%5C%5C%20216%2636%266%261%20%5Cend%7Bbmatrix%7D%20%5Cbegin%7Bbmatrix%7D%20a%5C%5C%20b%5C%5C%20c%5C%5C%20d%5C%5C%20%5Cend%7Bbmatrix%7D%20%3D%20%5Cbegin%7Bbmatrix%7D%202.1%5C%5C%203.5%5C%5C%204.2%5C%5C%203.1%5C%5C%204.4%5C%5C%206.8%20%5Cend%7Bbmatrix%7D\"/>\n",
    "</p>\n",
    "\n",
    "### this is solved using the following quation:\n",
    "<p align=\"center\">\n",
    "    <img src=\"https://latex.codecogs.com/gif.latex?%5Cdpi%7B150%7D%20%5Clarge%20%28A%5E%7BT%7DA%29%5E%7B-1%7DA%5E%7BT%7Db\"/>\n",
    "</p>"
   ]
  },
  {
   "cell_type": "code",
   "execution_count": 1,
   "metadata": {
    "collapsed": true
   },
   "outputs": [],
   "source": [
    "import numpy as np\n",
    "np.set_printoptions(precision=3)"
   ]
  },
  {
   "cell_type": "code",
   "execution_count": 2,
   "metadata": {
    "collapsed": true
   },
   "outputs": [],
   "source": [
    "def printMat(M):\n",
    "    for i in range(M.shape[0]):\n",
    "        print(\"[ \",end=\"\")\n",
    "        for j in range(M.shape[1]):\n",
    "            print(\"{} \".format(round(M.item(i,j),3)),end='')\n",
    "        print(\"]\")"
   ]
  },
  {
   "cell_type": "markdown",
   "metadata": {},
   "source": [
    "## Answer 1."
   ]
  },
  {
   "cell_type": "code",
   "execution_count": 3,
   "metadata": {},
   "outputs": [
    {
     "name": "stdout",
     "output_type": "stream",
     "text": [
      "A transepose = \n",
      "\n",
      "[ 2 0 2 ]\n",
      "[ 0 1 2 ]\n",
      "\n",
      "A.getT().A = \n",
      "\n",
      "[ 8 4 ]\n",
      "[ 4 5 ]\n",
      "\n",
      "|A| = \n",
      " 24.0\n",
      "\n",
      "ADJ(A.getT()) = \n",
      "\n",
      "[ 5.0 -4.0 ]\n",
      "[ -4.0 8.0 ]\n",
      "\n",
      "A.getT().A.getI() = \n",
      "\n",
      "[ 0.208 -0.167 ]\n",
      "[ -0.167 0.333 ]\n",
      "\n",
      "A.getT().A.getI()*A.getT() = \n",
      "\n",
      "[ 0.417 -0.167 0.083 ]\n",
      "[ -0.333 0.333 0.333 ]\n",
      "\n",
      "[X,Y] = \n",
      "\n",
      "[ 0.333 ]\n",
      "[ 1.333 ]\n"
     ]
    }
   ],
   "source": [
    "A = np.matrix([[2,0],[0,1],[2,2]])\n",
    "b = np.matrix([[1],[2],[3]])\n",
    "print(\"A transepose = \\n\")\n",
    "printMat(A.getT())\n",
    "Ata = np.dot(A.getT(),A)\n",
    "print(\"\\nA.getT().A = \\n\")\n",
    "printMat(Ata)\n",
    "print(\"\\n|A| = \\n\",np.linalg.det(Ata))\n",
    "atai = Ata.getI()\n",
    "print(\"\\nADJ(A.getT()) = \\n\")\n",
    "printMat(atai*np.linalg.det(Ata))\n",
    "print(\"\\nA.getT().A.getI() = \\n\")\n",
    "printMat(atai)\n",
    "atait = np.dot(atai,A.getT())\n",
    "print(\"\\nA.getT().A.getI()*A.getT() = \\n\")\n",
    "printMat(atait)\n",
    "ans = np.dot(atait,b)\n",
    "print(\"\\n[X,Y] = \\n\")\n",
    "printMat(ans)"
   ]
  },
  {
   "cell_type": "markdown",
   "metadata": {},
   "source": [
    "## Answer 2."
   ]
  },
  {
   "cell_type": "code",
   "execution_count": 4,
   "metadata": {},
   "outputs": [
    {
     "name": "stdout",
     "output_type": "stream",
     "text": [
      "A transepose = \n",
      "\n",
      "[ 1 1 1 1 1 ]\n",
      "[ -2 -1 0 1 4 ]\n",
      "[ 4 1 0 1 4 ]\n",
      "\n",
      "A.getT().A = \n",
      "\n",
      "[ 5 2 10 ]\n",
      "[ 2 22 8 ]\n",
      "[ 10 8 34 ]\n",
      "\n",
      "|A| = \n",
      " 1404.0\n",
      "\n",
      "ADJ(A.getT()) = \n",
      "\n",
      "[ 684.0 12.0 -204.0 ]\n",
      "[ 12.0 70.0 -20.0 ]\n",
      "[ -204.0 -20.0 106.0 ]\n",
      "\n",
      "A.getT().A.getI() = \n",
      "\n",
      "[ 0.487 0.009 -0.145 ]\n",
      "[ 0.009 0.05 -0.014 ]\n",
      "[ -0.145 -0.014 0.075 ]\n",
      "\n",
      "A.getT().A.getI()*A.getT() = \n",
      "\n",
      "[ -0.111 0.333 0.487 0.35 -0.06 ]\n",
      "[ -0.148 -0.056 0.009 0.044 0.151 ]\n",
      "[ 0.185 -0.056 -0.145 -0.084 0.1 ]\n",
      "\n",
      "[X,Y,Z] = \n",
      "\n",
      "[ 0.487 ]\n",
      "[ 0.009 ]\n",
      "[ -0.145 ]\n"
     ]
    }
   ],
   "source": [
    "A = np.matrix([[1,-2,4],[1,-1,1],[1,0,0],[1,1,1],[1,4,4]])\n",
    "b = np.matrix([[0],[0],[1],[0],[0]])\n",
    "print(\"A transepose = \\n\")\n",
    "printMat(A.getT())\n",
    "Ata = np.dot(A.getT(),A)\n",
    "print(\"\\nA.getT().A = \\n\")\n",
    "printMat(Ata)\n",
    "print(\"\\n|A| = \\n\",np.linalg.det(Ata))\n",
    "atai = Ata.getI()\n",
    "print(\"\\nADJ(A.getT()) = \\n\")\n",
    "printMat(atai*np.linalg.det(Ata))\n",
    "print(\"\\nA.getT().A.getI() = \\n\")\n",
    "printMat(atai)\n",
    "atait = np.dot(atai,A.getT())\n",
    "print(\"\\nA.getT().A.getI()*A.getT() = \\n\")\n",
    "printMat(atait)\n",
    "ans = np.dot(atait,b)\n",
    "print(\"\\n[X,Y] = \\n\")\n",
    "printMat(ans)"
   ]
  },
  {
   "cell_type": "markdown",
   "metadata": {},
   "source": [
    "## Answer 3."
   ]
  },
  {
   "cell_type": "code",
   "execution_count": 5,
   "metadata": {},
   "outputs": [
    {
     "name": "stdout",
     "output_type": "stream",
     "text": [
      "A transepose = \n",
      "\n",
      "[ 3 4 0 ]\n",
      "[ -6 -8 1 ]\n",
      "\n",
      "A.getT().A = \n",
      "\n",
      "[ 25 -50 ]\n",
      "[ -50 101 ]\n",
      "\n",
      "|A| = \n",
      " 25.0\n",
      "\n",
      "ADJ(A.getT()) = \n",
      "\n",
      "[ 101.0 50.0 ]\n",
      "[ 50.0 25.0 ]\n",
      "\n",
      "A.getT().A.getI() = \n",
      "\n",
      "[ 4.04 2.0 ]\n",
      "[ 2.0 1.0 ]\n",
      "\n",
      "A.getT().A.getI()*A.getT() = \n",
      "\n",
      "[ 0.12 0.16 2.0 ]\n",
      "[ 0.0 0.0 1.0 ]\n",
      "\n",
      "[X,Y] = \n",
      "\n",
      "[ 5.0 ]\n",
      "[ 2.0 ]\n"
     ]
    }
   ],
   "source": [
    "A = np.matrix([[3,-6],[4,-8],[0,1]])\n",
    "b = np.matrix([[-1],[7],[2]])\n",
    "print(\"A transepose = \\n\")\n",
    "printMat(A.getT())\n",
    "Ata = np.dot(A.getT(),A)\n",
    "print(\"\\nA.getT().A = \\n\")\n",
    "printMat(Ata)\n",
    "print(\"\\n|A| = \\n\",np.linalg.det(Ata))\n",
    "atai = Ata.getI()\n",
    "print(\"\\nADJ(A.getT()) = \\n\")\n",
    "printMat(atai*np.linalg.det(Ata))\n",
    "print(\"\\nA.getT().A.getI() = \\n\")\n",
    "printMat(atai)\n",
    "atait = np.dot(atai,A.getT())\n",
    "print(\"\\nA.getT().A.getI()*A.getT() = \\n\")\n",
    "printMat(atait)\n",
    "ans = np.dot(atait,b)\n",
    "print(\"\\n[X,Y] = \\n\")\n",
    "printMat(ans)"
   ]
  },
  {
   "cell_type": "markdown",
   "metadata": {
    "collapsed": true
   },
   "source": [
    "## Answer 4."
   ]
  },
  {
   "cell_type": "code",
   "execution_count": 6,
   "metadata": {},
   "outputs": [
    {
     "name": "stdout",
     "output_type": "stream",
     "text": [
      "A transepose = \n",
      "\n",
      "[ 1 8 27 64 125 216 ]\n",
      "[ 1 4 9 16 25 36 ]\n",
      "[ 1 2 3 4 5 6 ]\n",
      "[ 1 1 1 1 1 1 ]\n",
      "\n",
      "A.getT().A = \n",
      "\n",
      "[ 67171 12201 2275 441 ]\n",
      "[ 12201 2275 441 91 ]\n",
      "[ 2275 441 91 21 ]\n",
      "[ 441 91 21 6 ]\n",
      "\n",
      "|A| = \n",
      " 254016.0\n",
      "\n",
      "ADJ(A.getT()) = \n",
      "\n",
      "[ 3920.0 -41160.0 124264.0 -98784.0 ]\n",
      "[ -41160.0 438984.0 -1352400.0 1100736.0 ]\n",
      "[ 124264.0 -1352400.0 4287080.0 -3626784.0 ]\n",
      "[ -98784.0 1100736.0 -3626784.0 3302208.0 ]\n",
      "\n",
      "A.getT().A.getI() = \n",
      "\n",
      "[ 0.015 -0.162 0.489 -0.389 ]\n",
      "[ -0.162 1.728 -5.324 4.333 ]\n",
      "[ 0.489 -5.324 16.877 -14.278 ]\n",
      "[ -0.389 4.333 -14.278 13.0 ]\n",
      "\n",
      "A.getT().A.getI()*A.getT() = \n",
      "\n",
      "[ -0.046 0.065 0.037 -0.037 -0.065 0.046 ]\n",
      "[ 0.575 -0.698 -0.46 0.317 0.663 -0.397 ]\n",
      "[ -2.235 2.094 1.646 -0.646 -1.844 0.985 ]\n",
      "[ 2.667 -1.333 -1.333 0.333 1.333 -0.667 ]\n",
      "\n",
      "[W,X,Y,Z] = \n",
      "\n",
      "[ 0.2 ]\n",
      "[ -1.968 ]\n",
      "[ 6.132 ]\n",
      "[ -2.3 ]\n"
     ]
    }
   ],
   "source": [
    "A = np.matrix([[1, 1, 1, 1],[8, 4, 2, 1],[27, 9, 3, 1],[64,16,4,1],[125, 25, 5, 1],[216, 36, 6, 1]])\n",
    "b = np.matrix([[2.1],[3.5],[4.2],[3.1],[4.4],[6.8]])\n",
    "print(\"A transepose = \\n\")\n",
    "printMat(A.getT())\n",
    "Ata = np.dot(A.getT(),A)\n",
    "print(\"\\nA.getT().A = \\n\")\n",
    "printMat(Ata)\n",
    "print(\"\\n|A| = \\n\",np.linalg.det(Ata))\n",
    "atai = Ata.getI()\n",
    "print(\"\\nADJ(A.getT()) = \\n\")\n",
    "printMat(atai*np.linalg.det(Ata))\n",
    "print(\"\\nA.getT().A.getI() = \\n\")\n",
    "printMat(atai)\n",
    "atait = np.dot(atai,A.getT())\n",
    "print(\"\\nA.getT().A.getI()*A.getT() = \\n\")\n",
    "printMat(atait)\n",
    "ans = np.dot(atait,b)\n",
    "print(\"\\n[X,Y] = \\n\")\n",
    "printMat(ans)"
   ]
  },
  {
   "cell_type": "code",
   "execution_count": null,
   "metadata": {
    "collapsed": true
   },
   "outputs": [],
   "source": []
  }
 ],
 "metadata": {
  "kernelspec": {
   "display_name": "Python 3",
   "language": "python",
   "name": "python3"
  },
  "language_info": {
   "codemirror_mode": {
    "name": "ipython",
    "version": 3
   },
   "file_extension": ".py",
   "mimetype": "text/x-python",
   "name": "python",
   "nbconvert_exporter": "python",
   "pygments_lexer": "ipython3",
   "version": "3.6.1"
  }
 },
 "nbformat": 4,
 "nbformat_minor": 2
}
