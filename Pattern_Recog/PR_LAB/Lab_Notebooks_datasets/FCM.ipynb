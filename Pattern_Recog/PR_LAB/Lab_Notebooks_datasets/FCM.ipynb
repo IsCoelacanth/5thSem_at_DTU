{
 "cells": [
  {
   "cell_type": "code",
   "execution_count": 1,
   "metadata": {
    "collapsed": true
   },
   "outputs": [],
   "source": [
    "import pandas as pd\n",
    "import numpy as np\n",
    "import random\n",
    "import operator\n",
    "import math"
   ]
  },
  {
   "cell_type": "code",
   "execution_count": 3,
   "metadata": {},
   "outputs": [],
   "source": [
    "df_full = pd.read_csv(\"SPECTF_New.csv\")\n",
    "columns = list(df_full.columns)\n",
    "features = columns[:len(columns)-1]\n",
    "class_labels = list(df_full[columns[-1]])\n",
    "df = df_full[features]\n",
    "\n",
    "# Number of Attributes\n",
    "num_attr = len(df.columns) - 1\n",
    "\n",
    "# Number of Clusters\n",
    "k = 2\n",
    "\n",
    "# Maximum number of iterations\n",
    "MAX_ITER = 100\n",
    "\n",
    "# Number of data points\n",
    "n = len(df)\n",
    "\n",
    "# Fuzzy parameter\n",
    "m = 2.00"
   ]
  },
  {
   "cell_type": "code",
   "execution_count": 4,
   "metadata": {
    "collapsed": true
   },
   "outputs": [],
   "source": [
    "def accuracy(cluster_labels, class_labels):\n",
    "        county = [0,0]\n",
    "        countn = [0,0]\n",
    "        tp = [0, 0]\n",
    "        tn = [0, 0]\n",
    "        fp = [0, 0]\n",
    "        fn = [0, 0]\n",
    "    \n",
    "        for i in range(len(df)):\n",
    "            # Yes = 1, No = 0\n",
    "            if cluster_labels[i] == 1 and class_labels[i] == 'Yes':\n",
    "                tp[0] = tp[0] + 1\n",
    "            if cluster_labels[i] == 0 and class_labels[i] == 'No':\n",
    "                tn[0] = tn[0] + 1\n",
    "            if cluster_labels[i] == 1 and class_labels[i] == 'No':\n",
    "                fp[0] = fp[0] + 1\n",
    "            if cluster_labels[i] == 0 and class_labels[i] == 'Yes':\n",
    "                fn[0] = fn[0] + 1\n",
    "    \n",
    "        for i in range(len(df)):\n",
    "            # Yes = 0, No = 1\n",
    "            if cluster_labels[i] == 0 and class_labels[i] == 'Yes':\n",
    "                tp[1] = tp[1] + 1\n",
    "            if cluster_labels[i] == 1 and class_labels[i] == 'No':\n",
    "                tn[1] = tn[1] + 1\n",
    "            if cluster_labels[i] == 0 and class_labels[i] == 'No':\n",
    "                fp[1] = fp[1] + 1\n",
    "            if cluster_labels[i] == 1 and class_labels[i] == 'Yes':\n",
    "                fn[1] = fn[1] + 1\n",
    "    \n",
    "        a0 = float((tp[0] + tn[0]))/(tp[0] + tn[0] + fn[0] + fp[0])\n",
    "        a1 = float((tp[1] + tn[1]))/(tp[1] + tn[1] + fn[1] + fp[1])\n",
    "        p0 = float(tp[0])/(tp[0] + fp[0])\n",
    "        p1 = float(tp[1])/(tp[1] + fp[1])\n",
    "        r0 = float(tp[0])/(tp[0] + fn[0])\n",
    "        r1 = float(tp[1])/(tp[1] + fn[1])\n",
    "    \n",
    "        accuracy = [a0*100,a1*100]\n",
    "        precision = [p0*100,p1*100]\n",
    "        recall = [r0*100,r1*100]\n",
    "    \n",
    "        return accuracy, precision, recall"
   ]
  },
  {
   "cell_type": "code",
   "execution_count": 5,
   "metadata": {
    "collapsed": true
   },
   "outputs": [],
   "source": [
    "def initializeMembershipMatrix():\n",
    "        membership_mat = list()\n",
    "        for i in range(n):\n",
    "            random_num_list = [random.random() for i in range(k)]\n",
    "            summation = sum(random_num_list)\n",
    "            temp_list = [x/summation for x in random_num_list]\n",
    "            membership_mat.append(temp_list)\n",
    "        return membership_mat"
   ]
  },
  {
   "cell_type": "code",
   "execution_count": 6,
   "metadata": {
    "collapsed": true
   },
   "outputs": [],
   "source": [
    "def calculateClusterCenter(membership_mat):\n",
    "        cluster_mem_val = zip(*membership_mat)\n",
    "        cluster_centers = list()\n",
    "        for j in range(k):\n",
    "            x = list(cluster_mem_val[j])\n",
    "            xraised = [e ** m for e in x]\n",
    "            denominator = sum(xraised)\n",
    "            temp_num = list()\n",
    "            for i in range(n):\n",
    "                data_point = list(df.iloc[i])\n",
    "                prod = [xraised[i] * val for val in data_point]\n",
    "                temp_num.append(prod)\n",
    "            numerator = map(sum, zip(*temp_num))\n",
    "            center = [z/denominator for z in numerator]\n",
    "            cluster_centers.append(center)\n",
    "        return cluster_centers"
   ]
  },
  {
   "cell_type": "code",
   "execution_count": 7,
   "metadata": {
    "collapsed": true
   },
   "outputs": [],
   "source": [
    "def updateMembershipValue(membership_mat, cluster_centers):\n",
    "        p = float(2/(m-1))\n",
    "        for i in range(n):\n",
    "            x = list(df.iloc[i])\n",
    "            distances = [np.linalg.norm(map(operator.sub, x, cluster_centers[j])) for j in range(k)]\n",
    "            for j in range(k):\n",
    "                den = sum([math.pow(float(distances[j]/distances[c]), p) for c in range(k)])\n",
    "                membership_mat[i][j] = float(1/den)       \n",
    "        return membership_mat"
   ]
  },
  {
   "cell_type": "code",
   "execution_count": 8,
   "metadata": {
    "collapsed": true
   },
   "outputs": [],
   "source": [
    "def getClusters(membership_mat):\n",
    "        cluster_labels = list()\n",
    "        for i in range(n):\n",
    "            max_val, idx = max((val, idx) for (idx, val) in enumerate(membership_mat[i]))\n",
    "            cluster_labels.append(idx)\n",
    "        return cluster_labels"
   ]
  },
  {
   "cell_type": "code",
   "execution_count": 9,
   "metadata": {
    "collapsed": true
   },
   "outputs": [],
   "source": [
    "def fuzzyCMeansClustering():\n",
    "        # Membership Matrix\n",
    "        membership_mat = initializeMembershipMatrix()\n",
    "        curr = 0\n",
    "        while curr <= MAX_ITER:\n",
    "            cluster_centers = calculateClusterCenter(membership_mat)\n",
    "            membership_mat = updateMembershipValue(membership_mat, cluster_centers)\n",
    "            cluster_labels = getClusters(membership_mat)\n",
    "            curr += 1\n",
    "        print(membership_mat)\n",
    "        return cluster_labels, cluster_centers\n",
    "    "
   ]
  },
  {
   "cell_type": "code",
   "execution_count": 10,
   "metadata": {},
   "outputs": [
    {
     "name": "stdout",
     "output_type": "stream",
     "text": [
      "[[0.5023453267780242, 0.4976546732219758], [0.49866666624509176, 0.5013333337549082], [0.4997873734791836, 0.5002126265208166], [0.49850805477053517, 0.5014919452294648], [0.5010833153379292, 0.4989166846620708], [0.502949933167043, 0.49705006683295705], [0.5017211218782395, 0.49827887812176047], [0.5022860876022252, 0.49771391239777474], [0.5007554088711271, 0.49924459112887304], [0.5031103048975416, 0.4968896951024583], [0.5016619942034886, 0.4983380057965114], [0.5014540604154089, 0.49854593958459115], [0.49949299121324, 0.50050700878676], [0.5021832013977544, 0.49781679860224554], [0.5024168973962583, 0.4975831026037418], [0.5013282737832052, 0.49867172621679484], [0.50334154612881, 0.49665845387119], [0.5008625869810218, 0.4991374130189781], [0.5005783224956559, 0.4994216775043441], [0.497644027686899, 0.502355972313101], [0.5025194372196076, 0.49748056278039254], [0.5027501861189013, 0.49724981388109873], [0.4978177401257798, 0.5021822598742202], [0.5020466972132183, 0.4979533027867818], [0.5024331455139942, 0.49756685448600574], [0.5005418988267647, 0.49945810117323525], [0.5015378752258127, 0.49846212477418717], [0.5018387839947749, 0.4981612160052252], [0.5029553439515548, 0.4970446560484451], [0.5038840525200015, 0.4961159474799985], [0.49896975576263697, 0.501030244237363], [0.49945701765159256, 0.5005429823484074], [0.5038217568054366, 0.49617824319456333], [0.5025938323988582, 0.4974061676011417], [0.5004992349454541, 0.4995007650545458], [0.5021090547912707, 0.49789094520872934], [0.49942381464664864, 0.5005761853533514], [0.4975872016059056, 0.5024127983940944], [0.5038663396232981, 0.49613366037670187], [0.5015749801485387, 0.49842501985146126], [0.5033088816654114, 0.49669111833458846], [0.5011643979756077, 0.49883560202439214], [0.5032735370352662, 0.4967264629647337], [0.5018465243710327, 0.4981534756289673], [0.49840097764617014, 0.5015990223538298], [0.501568855357039, 0.49843114464296107], [0.503599689739032, 0.496400310260968], [0.5023794771695412, 0.4976205228304587], [0.4997445351891872, 0.5002554648108127], [0.4978277222802137, 0.5021722777197862], [0.4980821927381806, 0.5019178072618194], [0.5034322242689669, 0.49656777573103295], [0.4985456358183813, 0.5014543641816186], [0.4982486748505709, 0.501751325149429], [0.49834810492820286, 0.5016518950717973], [0.5009612949640868, 0.4990387050359132], [0.4983461580282363, 0.5016538419717637], [0.4992720315864983, 0.5007279684135016], [0.5008513597238136, 0.4991486402761865], [0.4996516252750122, 0.5003483747249876], [0.5000614960527742, 0.49993850394722583], [0.5028387490146002, 0.49716125098539965], [0.5034727740078521, 0.496527225992148], [0.5032045537337301, 0.4967954462662698], [0.5034046346972558, 0.4965953653027441], [0.5010532263982905, 0.49894677360170947], [0.5014826393210289, 0.4985173606789712], [0.5009617462195414, 0.49903825378045863], [0.5032665965790886, 0.4967334034209114], [0.5033197973729955, 0.4966802026270046], [0.502330668737788, 0.49766933126221197], [0.5028168697341058, 0.4971831302658942], [0.5038106669242887, 0.4961893330757114], [0.4999547668059753, 0.5000452331940247], [0.5031717413956259, 0.49682825860437413], [0.4999689644394, 0.5000310355606], [0.5001542680341511, 0.4998457319658488], [0.504177521763711, 0.49582247823628905], [0.49855046663388003, 0.50144953336612], [0.49784950621668816, 0.5021504937833119], [0.5026334515135203, 0.4973665484864796], [0.502047798779767, 0.4979522012202329], [0.5039125011488903, 0.49608749885110975], [0.5013718214062634, 0.49862817859373665], [0.5031221953649858, 0.4968778046350142], [0.5029177512392122, 0.49708224876078777], [0.5018518180259288, 0.4981481819740713], [0.5011131478438963, 0.4988868521561037], [0.5019111363742851, 0.498088863625715], [0.5031985435254619, 0.4968014564745381], [0.5029616184655347, 0.4970383815344653], [0.49803882785675024, 0.5019611721432498], [0.49946698757391655, 0.5005330124260834], [0.5029761963320163, 0.4970238036679836], [0.5027384599116022, 0.4972615400883978], [0.49987898004776515, 0.500121019952235], [0.49917522102442025, 0.5008247789755798], [0.5035622868010473, 0.4964377131989525], [0.5012212347366407, 0.4987787652633592], [0.49928859962844474, 0.5007114003715551], [0.5017156907939397, 0.49828430920606026], [0.4994571301010385, 0.5005428698989615], [0.49942360007175873, 0.5005763999282413], [0.49873658312185426, 0.5012634168781458], [0.5019504428006302, 0.49804955719936966], [0.4989966978759011, 0.5010033021240989], [0.5026652242889095, 0.4973347757110905], [0.49830975818899614, 0.5016902418110037], [0.4996368245844659, 0.5003631754155341], [0.5039099531905749, 0.49609004680942514]]\n",
      "Accuracy = [74.54545454545455, 25.454545454545453]\n",
      "Precision = [88.57142857142857, 32.0]\n",
      "Recall = [56.36363636363636, 43.63636363636363]\n"
     ]
    }
   ],
   "source": [
    "labels, centers = fuzzyCMeansClustering()\n",
    "a,p,r = accuracy(labels, class_labels)\n",
    "\n",
    "print(\"Accuracy = \" + str(a))\n",
    "print(\"Precision = \" + str(p))\n",
    "print(\"Recall = \" + str(r))"
   ]
  },
  {
   "cell_type": "code",
   "execution_count": null,
   "metadata": {
    "collapsed": true
   },
   "outputs": [],
   "source": []
  }
 ],
 "metadata": {
  "kernelspec": {
   "display_name": "Python 2",
   "language": "python",
   "name": "python2"
  },
  "language_info": {
   "codemirror_mode": {
    "name": "ipython",
    "version": 2
   },
   "file_extension": ".py",
   "mimetype": "text/x-python",
   "name": "python",
   "nbconvert_exporter": "python",
   "pygments_lexer": "ipython2",
   "version": "2.7.11"
  }
 },
 "nbformat": 4,
 "nbformat_minor": 2
}
